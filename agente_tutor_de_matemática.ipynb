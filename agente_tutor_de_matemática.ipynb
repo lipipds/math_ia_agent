{
  "nbformat": 4,
  "nbformat_minor": 0,
  "metadata": {
    "colab": {
      "provenance": [],
      "collapsed_sections": [
        "_zLnUoUa7ypz",
        "GjW3eOm3iEC6",
        "2jPildBi71nK",
        "2fVo1kS476MB",
        "DIPN3c1B77ta",
        "EyyvKqep7-FD",
        "go3GkfmKDsX_",
        "z0C7y8z4XHwk"
      ],
      "authorship_tag": "ABX9TyPlfcerWij1D+w2l15vDGra",
      "include_colab_link": true
    },
    "kernelspec": {
      "name": "python3",
      "display_name": "Python 3"
    },
    "language_info": {
      "name": "python"
    }
  },
  "cells": [
    {
      "cell_type": "markdown",
      "metadata": {
        "id": "view-in-github",
        "colab_type": "text"
      },
      "source": [
        "<a href=\"https://colab.research.google.com/github/lipipds/math_ia_agent/blob/main/agente_tutor_de_matem%C3%A1tica.ipynb\" target=\"_parent\"><img src=\"https://colab.research.google.com/assets/colab-badge.svg\" alt=\"Open In Colab\"/></a>"
      ]
    },
    {
      "cell_type": "markdown",
      "source": [
        "## Setup"
      ],
      "metadata": {
        "id": "_zLnUoUa7ypz"
      }
    },
    {
      "cell_type": "code",
      "execution_count": 7,
      "metadata": {
        "id": "uOnuncXAY-SB"
      },
      "outputs": [],
      "source": [
        "%pip -q install google-adk google-genai"
      ]
    },
    {
      "cell_type": "code",
      "source": [
        "# Configura a API Key do Google Gemini\n",
        "\n",
        "import os\n",
        "from google.colab import userdata\n",
        "\n",
        "os.environ[\"GOOGLE_API_KEY\"] = userdata.get('GOOGLE_API_KEY')"
      ],
      "metadata": {
        "id": "xTns7H7WuZif"
      },
      "execution_count": 5,
      "outputs": []
    },
    {
      "cell_type": "code",
      "source": [
        "# Configura o cliente da SDK do Gemini\n",
        "\n",
        "from google import genai\n",
        "\n",
        "client = genai.Client()\n",
        "\n",
        "MODEL_ID = \"gemini-2.0-flash\""
      ],
      "metadata": {
        "id": "DpulIfU8ubt9"
      },
      "execution_count": 8,
      "outputs": []
    },
    {
      "cell_type": "code",
      "source": [
        "from google.adk.agents import Agent\n",
        "from google.adk.runners import Runner\n",
        "from google.adk.sessions import InMemorySessionService\n",
        "from google.adk.tools import google_search\n",
        "from google.genai import types  # Para criar conteúdos (Content e Part)\n",
        "\n",
        "from google.adk.agents import LlmAgent\n",
        "from google.adk.tools.agent_tool import AgentTool\n",
        "from google.adk.runners import InMemoryRunner\n",
        "from google.genai.types import UserContent\n",
        "from google.genai.types import Part\n",
        "\n",
        "from datetime import date\n",
        "import textwrap # Para formatar melhor a saída de texto\n",
        "from IPython.display import display, Markdown # Para exibir texto formatado no Colab\n",
        "import requests # Para fazer requisições HTTP\n",
        "import warnings\n",
        "\n",
        "warnings.filterwarnings(\"ignore\")"
      ],
      "metadata": {
        "id": "tIkDmMRsZCqP"
      },
      "execution_count": 6,
      "outputs": []
    },
    {
      "cell_type": "code",
      "source": [
        "# Função auxiliar que envia uma mensagem para um agente via Runner e retorna a resposta final\n",
        "def call_agent(agent: Agent, message_text: str) -> str:\n",
        "    # Cria um serviço de sessão em memória\n",
        "    session_service = InMemorySessionService()\n",
        "    # Cria uma nova sessão (você pode personalizar os IDs conforme necessário)\n",
        "    session = session_service.create_session(app_name=agent.name, user_id=\"user1\", session_id=\"session1\")\n",
        "    # Cria um Runner para o agente\n",
        "    runner = Runner(agent=agent, app_name=agent.name, session_service=session_service)\n",
        "    # Cria o conteúdo da mensagem de entrada\n",
        "    content = types.Content(role=\"user\", parts=[types.Part(text=message_text)])\n",
        "\n",
        "    final_response = \"\"\n",
        "    # Itera assincronamente pelos eventos retornados durante a execução do agente\n",
        "    for event in runner.run(user_id=\"user1\", session_id=\"session1\", new_message=content):\n",
        "        if event.is_final_response():\n",
        "          for part in event.content.parts:\n",
        "            if part.text is not None:\n",
        "              final_response += part.text\n",
        "              final_response += \"\\n\"\n",
        "    return final_response"
      ],
      "metadata": {
        "id": "f9-OI6ZzZCoX"
      },
      "execution_count": 9,
      "outputs": []
    },
    {
      "cell_type": "code",
      "source": [
        "# Função auxiliar para exibir texto formatado em Markdown no Colab\n",
        "def to_markdown(text):\n",
        "  text = text.replace('•', '  *')\n",
        "  return Markdown(textwrap.indent(text, '> ', predicate=lambda _: True))"
      ],
      "metadata": {
        "id": "RcD4Y-hvvWVe"
      },
      "execution_count": null,
      "outputs": []
    },
    {
      "cell_type": "markdown",
      "source": [
        "## Sub agentes"
      ],
      "metadata": {
        "id": "GjW3eOm3iEC6"
      }
    },
    {
      "cell_type": "markdown",
      "source": [
        "### agente_identificador"
      ],
      "metadata": {
        "id": "2jPildBi71nK"
      }
    },
    {
      "cell_type": "code",
      "source": [
        "agente_identificador = Agent(\n",
        "    name=\"agente_identificador\",\n",
        "    description=\"Agente que identifica do tema da matemática\",\n",
        "    model=\"gemini-2.0-flash\",\n",
        "    output_key=\"tema\",\n",
        "    instruction=\"\"\"\n",
        "    Você é um especialista em tópicos/assuntos/temas da matemática.\n",
        "\n",
        "    A sua tarefa é responder apenas a classificação principal da pergunta nos tópicos abaixo:\n",
        "\n",
        "    * Aritmética\n",
        "    * Álgebra\n",
        "    * Geometria\n",
        "    * Trigonometria\n",
        "    * Estatística\n",
        "    * Probabilidade\n",
        "    * Funções\n",
        "    * Cálculo\n",
        "\n",
        "    Você pode usar as referencias abaixo para refinar a resposta:\n",
        "\n",
        "      - **Aritmética**\n",
        "          - A aritmética envolve trabalhar com números, incluindo:\n",
        "              - Números naturais\n",
        "              - Inteiros\n",
        "              - Racionais, que podem ser expressos como frações\n",
        "              - Irracionais, que são decimais sem um padrão repetitivo\n",
        "              - Números reais\n",
        "              - Números complexos, decorrentes da raiz quadrada de um número negativo\n",
        "          - A aritmética é usada para cálculos simples no dia a dia.\n",
        "          - Pode ajudá-lo a evitar ser cobrado em excesso, comparando preços usando o mínimo múltiplo comum.\n",
        "          - Alguns matemáticos argumentam que apenas a adição e a multiplicação existem, sendo a subtração a adição de um número negativo e a divisão a multiplicação por uma fração.\n",
        "          - A multiplicação simplifica grandes adições.\n",
        "          - A potenciação simplifica grandes multiplicações.\n",
        "          - As porcentagens, usadas para calcular lucros, descontos e impostos, representam uma parte de um todo.\n",
        "      - **Álgebra**\n",
        "          - A álgebra usa letras e símbolos para representar números e operações.\n",
        "          - Ajuda a descobrir os valores desconhecidos nas equações.\n",
        "          - As expressões algébricas podem ser simplificadas, reduzindo-as em termos de letras.\n",
        "          - A álgebra envolve manipular letras usando operações.\n",
        "          - Um exemplo de manipulação algébrica é encontrar o perímetro de um retângulo usando a expressão 2(x + y).\n",
        "      - **Geometria**\n",
        "          - A geometria estuda formas, tamanhos, posições e figuras únicas. Pode ser plana ou espacial.\n",
        "          - A geometria plana se concentra em triângulos.\n",
        "          - O teorema de Pitágoras demonstra que a área projetada pelo lado mais longo de um triângulo retângulo é igual à soma das áreas projetadas pelos outros dois lados.\n",
        "          - A lei dos cossenos ajuda a encontrar o terceiro lado de qualquer triângulo se você souber dois lados e o ângulo entre eles.\n",
        "          - A trigonometria, uma área especializada dentro da geometria, se concentra nas medidas e ângulos dos triângulos.\n",
        "      - **Trigonometria**\n",
        "          - Trigonometria significa três ângulos e medidas.\n",
        "          - O seno do ângulo é definido como a razão entre o cateto oposto e a hipotenusa.\n",
        "          - O cosseno do ângulo é definido como a razão entre o cateto adjacente e a hipotenusa.\n",
        "          - A tangente é igual a seno sobre cosseno.\n",
        "          - Seno ao quadrado mais cosseno ao quadrado é igual a 1.\n",
        "      - **Estatística**\n",
        "          - A estatística utiliza teorias probabilísticas para auxiliar na tomada de decisões.\n",
        "          - As medidas de posição em estatística são: moda, média e mediana.\n",
        "          - Moda é o elemento mais frequente em um conjunto de dados.\n",
        "          - Média é a razão entre a soma dos elementos e o número total de observações.\n",
        "          - Mediana é o elemento central de uma quantidade ímpar de elementos, após serem colocados em ordem crescente.\n",
        "          - O desvio padrão mede o quanto os valores estão distantes em relação à média.\n",
        "      - **Probabilidade**\n",
        "          - A probabilidade utiliza teorias probabilísticas para auxiliar na tomada de decisões.\n",
        "          - A probabilidade estuda a chance ou a possibilidade de um evento ocorrer.\n",
        "          - Para calcular a probabilidade, basta dividir os casos favoráveis pelo total de possibilidades.\n",
        "          - A probabilidade é uma forma racional de interpretar a chance de um evento ocorrer.\n",
        "      - **Funções**\n",
        "          - As funções podem modelar a relação entre a temperatura e a pressão de um sistema.\n",
        "          - As funções podem ser usadas para descrever e modelar fenômenos, não apenas para serem um incômodo na escola.\n",
        "          - Uma função é um tipo específico de relação entre números, como uma máquina que recebe números de entrada, executa uma operação e produz um resultado.\n",
        "          - As funções têm coeficientes que determinam a posição e o ângulo de sua curva.\n",
        "      - **Cálculo**\n",
        "          - O cálculo é onde os homens são separados dos meninos.\n",
        "          - Os limites definem o comportamento de uma função.\n",
        "          - As derivadas medem a taxa de variação em um ponto específico.\n",
        "          - As integrais calculam a área sob uma curva, somando pontos infinitesimais.\n",
        "          - As derivadas medem como algo muda em um ponto, enquanto as integrais medem a soma desses pontos.\n",
        "\n",
        "    Foque em retornar apenas um único tema principal.\n",
        "    \"\"\",\n",
        ")"
      ],
      "metadata": {
        "id": "GncSTmVLZCjc"
      },
      "execution_count": 99,
      "outputs": []
    },
    {
      "cell_type": "code",
      "source": [
        "pergunta = 'como descobrir o tamanho de um prédio?'\n",
        "r =  call_agent(agente_identificador, f'Pergunta: {pergunta}')\n",
        "display(to_markdown(r))"
      ],
      "metadata": {
        "colab": {
          "base_uri": "https://localhost:8080/",
          "height": 62
        },
        "id": "CEx_2q4guT3y",
        "outputId": "626cecbb-80e7-4bc7-8d0c-9f9263ab49e1"
      },
      "execution_count": 100,
      "outputs": [
        {
          "output_type": "display_data",
          "data": {
            "text/plain": [
              "<IPython.core.display.Markdown object>"
            ],
            "text/markdown": "> Geometria\n"
          },
          "metadata": {}
        }
      ]
    },
    {
      "cell_type": "markdown",
      "source": [
        "### agente_detecta_dificuldade"
      ],
      "metadata": {
        "id": "2fVo1kS476MB"
      }
    },
    {
      "cell_type": "code",
      "source": [
        "agente_detecta_dificuldade = Agent(\n",
        "    name=\"agente_detecta_dificuldade\",\n",
        "    description=\"Agente que identifica a dificuldade da pergunta e do assunto.\",\n",
        "    model=\"gemini-2.0-flash\",\n",
        "    instruction=\"\"\"\n",
        "    Você é especialista em matemática e consegue identificar o nível de dificuldade dos assuntos conforme os anos escolares do Brasil a partir da pergunta.\n",
        "    Classifique em:\n",
        "    - Ensino Fundamental\n",
        "    - Ensino Médio\n",
        "    - Ensino Superior\n",
        "    Foque em retornar apenas o ano escolar em que o aluno precisa começar a dominar o assunto.\n",
        "    \"\"\",\n",
        ")"
      ],
      "metadata": {
        "id": "1ZcfgxQtzJIs"
      },
      "execution_count": 102,
      "outputs": []
    },
    {
      "cell_type": "code",
      "source": [
        "pergunta = 'como descobrir o volume de um cilindro'\n",
        "r =  call_agent(agente_detecta_dificuldade, f'Pergunta: {pergunta}')\n",
        "display(to_markdown(r))"
      ],
      "metadata": {
        "colab": {
          "base_uri": "https://localhost:8080/",
          "height": 62
        },
        "id": "7pd4QoHK0xw4",
        "outputId": "4fe1ca90-10e1-46e5-b0f6-a0e458e499a7"
      },
      "execution_count": 104,
      "outputs": [
        {
          "output_type": "display_data",
          "data": {
            "text/plain": [
              "<IPython.core.display.Markdown object>"
            ],
            "text/markdown": "> Ensino Fundamental\n"
          },
          "metadata": {}
        }
      ]
    },
    {
      "cell_type": "markdown",
      "source": [
        "### agente_exemplificador"
      ],
      "metadata": {
        "id": "DIPN3c1B77ta"
      }
    },
    {
      "cell_type": "code",
      "source": [
        "agente_exemplificador = Agent(\n",
        "    name=\"agente_exemplificador\",\n",
        "    description=\"Agente que cria exemplos lúdicos e didáticos para resolução de um problema ou tema.\",\n",
        "    model=\"gemini-2.0-flash\",\n",
        "    instruction=\"\"\"\n",
        "    Você é especialista em matemática e em auxiliar estudantes;\n",
        "    - é organizado, claro, conciso;\n",
        "    - consegue simplificar conceitos complexos;\n",
        "    - fornece exemplos simples para explicar conceitos;\n",
        "    - presa pelo principio organização e lembra que ser organizado com as informações sempre facilita\n",
        "    - usa a lógica de maneira simples e descomplicada\n",
        "    - Lembra dos detalhes que fazem a diferença e ressalta os pontos importantes\n",
        "    - Dá dicas de como resolver os problemas da forma mais eficiente\n",
        "    - Estimula que o aluno tente resolver ao invés de apenas pedir a resposta pronta\n",
        "\n",
        "    Foque em retornar apenas o passo a passo necessário para resolver o problema.\n",
        "\n",
        "    Formato da resposta:\n",
        "\n",
        "    **Passo a passo**\n",
        "    1. ...\n",
        "    2. ...\n",
        "    3. ...\n",
        "    4. ...\n",
        "    5. ...\n",
        "\n",
        "    **Exemplo prático**\n",
        "    ...\n",
        "\n",
        "    **Dicas**:\n",
        "    ...\n",
        "\n",
        "    **Onde se aplica no dia-a-dia**\n",
        "    ...\n",
        "    \"\"\"\n",
        ")"
      ],
      "metadata": {
        "id": "QR1MNoUExUHO"
      },
      "execution_count": 105,
      "outputs": []
    },
    {
      "cell_type": "code",
      "source": [
        "pergunta = 'como descobrir o volume de um cilindro'\n",
        "\n",
        "r = call_agent(agente_exemplificador, pergunta)\n",
        "display(to_markdown(r))"
      ],
      "metadata": {
        "colab": {
          "base_uri": "https://localhost:8080/",
          "height": 629
        },
        "id": "bBqFJS9L1tkm",
        "outputId": "39006a5e-6537-404e-c530-ba6a5d0bb392"
      },
      "execution_count": 106,
      "outputs": [
        {
          "output_type": "display_data",
          "data": {
            "text/plain": [
              "<IPython.core.display.Markdown object>"
            ],
            "text/markdown": "> Para descobrir o volume de um cilindro, siga este passo a passo:\n> \n> **Passo a passo**\n> \n> 1.  **Descubra o raio (r) da base do cilindro**: O raio é a distância do centro do círculo até a borda. Se você já tem o raio, pode pular para o próximo passo. Se você tem o diâmetro, que é a distância de uma borda à outra passando pelo centro, divida-o por 2 para encontrar o raio. Por exemplo, se o diâmetro é 10 cm, o raio será 5 cm. Se você tem a circunferência, divida-a por 2π para encontrar o raio.\n> 2.  **Calcule a área da base (Ab)**: A base de um cilindro é um círculo, então a área é calculada pela fórmula Ab = πr². Use 3,14 como uma aproximação para π. Assim, a área da base será π \\* r \\* r. Por exemplo, se o raio é 5 cm, a área da base será π \\* 5 \\* 5 = 78,5 cm².\n> 3.  **Descubra a altura (h) do cilindro**: A altura é a distância entre as duas bases. Se você já tem a altura, pode pular para o próximo passo.\n> 4.  **Calcule o volume (V)**: O volume de um cilindro é calculado pela fórmula V = Ab \\* h, onde Ab é a área da base e h é a altura. Multiplique a área da base pela altura para encontrar o volume. Por exemplo, se a área da base é 78,5 cm² e a altura é 10 cm, o volume será 78,5 \\* 10 = 785 cm³.\n> 5.  **Expresse sua resposta em unidades cúbicas**: O volume é uma medida de espaço tridimensional, então deve ser expresso em unidades cúbicas. No exemplo acima, o volume é 785 cm³.\n> \n> **Exemplo prático**\n> \n> Imagine que você tem uma lata de refrigerante. Para calcular o volume da lata, você precisa:\n> \n> 1.  Medir o diâmetro da base da lata e dividir por 2 para encontrar o raio.\n> 2.  Calcular a área da base usando a fórmula πr².\n> 3.  Medir a altura da lata.\n> 4.  Multiplicar a área da base pela altura para encontrar o volume.\n> \n> **Dicas**\n> \n> *   Certifique-se de que todas as medidas estejam na mesma unidade antes de calcular o volume.\n> *   Use uma calculadora para facilitar os cálculos.\n> *   Lembre-se de expressar sua resposta em unidades cúbicas.\n> \n> **Onde se aplica no dia-a-dia**\n> \n> O cálculo do volume de um cilindro é útil em muitas situações do dia-a-dia, como:\n> \n> *   Calcular a quantidade de líquido que um recipiente cilíndrico pode conter.\n> *   Calcular a quantidade de material necessária para construir um objeto cilíndrico.\n> *   Calcular o volume de um tronco de árvore para estimar a quantidade de madeira que ele pode fornecer.\n> \n> Espero que isso ajude! Se tiver mais alguma dúvida, é só perguntar.\n"
          },
          "metadata": {}
        }
      ]
    },
    {
      "cell_type": "markdown",
      "source": [
        "### agente_conceituador"
      ],
      "metadata": {
        "id": "EyyvKqep7-FD"
      }
    },
    {
      "cell_type": "code",
      "source": [
        "agente_conceituador = Agent(\n",
        "    name=\"agente_conceituador\",\n",
        "    description=\"Agente que explica conceitos.\",\n",
        "    model=\"gemini-2.0-flash\",\n",
        "    instruction=\"\"\"\n",
        "    Você é especialista em matemática e em auxiliar estudantes de forma descomplicada.\n",
        "    - Apresenta conceitos matemáticos de forma clara, utilizando analogias;\n",
        "    - É organizado, claro, conciso;\n",
        "    - Presa pelo principio organização e lembra que ser organizado com as informações sempre facilita;\n",
        "    - Lembra dos detalhes que fazem a diferença e ressalta os pontos importantes;\n",
        "\n",
        "    Se adapte conforme o nível da pergunta:\n",
        "    - Ensino Fundamental: linguagem mais infantil e utiliza conceitos simples com objetos conhecidos;\n",
        "    - Ensino Médio: linguagem mais informal, estilo redes sociais, com emojis;\n",
        "    - Ensino Superior: liguagem mais formal.\n",
        "\n",
        "    Foque em retornar em poucas palavras o conceito necesário para facilitar o entendimento, de forma sucinta.\n",
        "\n",
        "    \"\"\"\n",
        ")"
      ],
      "metadata": {
        "id": "nHYDJizi2jyZ"
      },
      "execution_count": 107,
      "outputs": []
    },
    {
      "cell_type": "code",
      "source": [
        "pergunta = 'como funciona uma funcao exponencial?'\n",
        "\n",
        "nivel = call_agent(agente_detecta_dificuldade, pergunta)\n",
        "print(f\"Nível detectado: {nivel}\")\n",
        "\n",
        "r = call_agent(agente_conceituador, f\"Pergunta: {pergunta} Nível: {nivel}\")\n",
        "display(to_markdown(r))"
      ],
      "metadata": {
        "colab": {
          "base_uri": "https://localhost:8080/",
          "height": 225
        },
        "id": "LLNLNlo-4dnu",
        "outputId": "46727a68-5a3e-4d45-e2c9-e0d69e0a5b4a"
      },
      "execution_count": 108,
      "outputs": [
        {
          "output_type": "stream",
          "name": "stdout",
          "text": [
            "Nível detectado: Ensino Médio\n",
            "\n",
            "\n"
          ]
        },
        {
          "output_type": "display_data",
          "data": {
            "text/plain": [
              "<IPython.core.display.Markdown object>"
            ],
            "text/markdown": "> Função exponencial 🚀 é tipo uma plantinha que cresce MUITO rápido! 🌱 Imagine que você tem R$1 e ele dobra a cada dia. No começo, não parece muita coisa, mas rapidinho você vai ter uma grana ENORME! 🤑\n> \n> A fórmula geral é: f(x) = aˣ, onde 'a' é a base (um número maior que 0 e diferente de 1) e 'x' é o expoente (a variável).\n> \n> **Exemplo:**\n> Se a = 2, então f(x) = 2ˣ.\n> \n> x = 0 -> f(0) = 2⁰ = 1\n> x = 1 -> f(1) = 2¹ = 2\n> x = 2 -> f(2) = 2² = 4\n> x = 3 -> f(3) = 2³ = 8\n> \n> Percebe como cresce rápido? 😉 Isso é uma função exponencial! 📈\n"
          },
          "metadata": {}
        }
      ]
    },
    {
      "cell_type": "markdown",
      "source": [
        "### agente_exercicios"
      ],
      "metadata": {
        "id": "go3GkfmKDsX_"
      }
    },
    {
      "cell_type": "code",
      "source": [
        "agente_exercicios = Agent(\n",
        "    name=\"agente_exercicios\",\n",
        "    description=\"Agente que monta exercicios.\",\n",
        "    model=\"gemini-2.0-flash\",\n",
        "    output_key=\"exercicios\",\n",
        "    instruction=\"\"\"\n",
        "    Você é especialista em matemática e em auxiliar estudantes de forma descomplicada.\n",
        "    - É organizado, claro, conciso;\n",
        "    - Presa pelo principio organização e lembra que ser organizado com as informações sempre facilita;\n",
        "\n",
        "    Se adapte conforme o nível da pergunta:\n",
        "    - Ensino Fundamental: linguagem mais infantil e utiliza conceitos simples com objetos conhecidos;\n",
        "    - Ensino Médio: linguagem mais informal, estilo redes sociais, com emojis;\n",
        "    - Ensino Superior: liguagem mais formal.\n",
        "\n",
        "    Você pode usar o google para buscar questões (google_search).\n",
        "\n",
        "    Foque em retornar a quantidade de exercicios solicitada. Se não for informado, retorne 10 questões.\n",
        "\n",
        "    \"\"\",\n",
        "    tools=[google_search]\n",
        ")"
      ],
      "metadata": {
        "id": "98pNn5ar65fM"
      },
      "execution_count": 113,
      "outputs": []
    },
    {
      "cell_type": "code",
      "source": [
        "pergunta = 'gostaria de praticar função quadrática'\n",
        "\n",
        "nivel = call_agent(agente_detecta_dificuldade, pergunta)\n",
        "print(f\"Nível detectado: {nivel}\")\n",
        "\n",
        "r = call_agent(agente_exercicios, f\"Pergunta: {pergunta} Nível: {nivel}\")\n",
        "display(to_markdown(r))"
      ],
      "metadata": {
        "colab": {
          "base_uri": "https://localhost:8080/",
          "height": 580
        },
        "id": "UL3dRxef7wj8",
        "outputId": "2022c262-2d2b-4e09-d717-092677daf5bf"
      },
      "execution_count": 110,
      "outputs": [
        {
          "output_type": "stream",
          "name": "stdout",
          "text": [
            "Nível detectado: Ensino Médio\n",
            "\n"
          ]
        },
        {
          "output_type": "display_data",
          "data": {
            "text/plain": [
              "<IPython.core.display.Markdown object>"
            ],
            "text/markdown": "> 👋 E aí! Preparado(a) para detonar em função quadrática? 🚀 Separei 10 exercícios top para você praticar e gabaritar todas as questões! 😉\n> \n> \n> ## 🚀 Exercícios de Função Quadrática Nível Ensino Médio 🚀\n> \n> 1.  **Gráfico da Parábola:** Dada a função quadrática f(x) = x² - 4x + 3, determine:\n>     *   As raízes da função.\n>     *   As coordenadas do vértice da parábola.\n>     *   A concavidade da parábola (voltada para cima ou para baixo).\n>     *   Esboce o gráfico da função.\n> \n> 2.  **Altura Máxima:** Um projétil é lançado verticalmente para cima. Sua altura (em metros) em relação ao tempo (em segundos) é dada pela função h(t) = -t² + 6t. Qual a altura máxima atingida pelo projétil?\n> \n> 3.  **Receita Máxima:** Uma empresa vende um produto por R$50 a unidade, e a cada R$1 de desconto, vende 10 unidades a mais. Se o custo de produção é de R$30 por unidade, qual o preço que maximiza o lucro?\n> \n> 4.  **Raízes Reais Distintas:** Para quais valores de *m* a função f(x) = x² + mx + 1 possui duas raízes reais e distintas?\n> \n> 5.  **Área Máxima:** Com 40 metros de cerca, deseja-se construir um cercado retangular. Quais devem ser as dimensões do retângulo para que a área cercada seja máxima?\n> \n> 6.  **Imagem da Função:** Determine o conjunto imagem da função quadrática f(x) = -x² + 2x + 5.\n> \n> 7.  **Interseção com o Eixo x:** Em que pontos a parábola da função f(x) = 2x² - 8x + 6 intercepta o eixo x?\n> \n> 8.  **Vértice como Ponto de Mínimo:** Dada a função f(x) = x² - 6x + 5, determine as coordenadas do vértice e verifique se é um ponto de mínimo ou de máximo.\n> \n> 9.  **Estudo do Sinal:** Faça o estudo do sinal da função f(x) = -x² + 5x - 6.\n> \n> 10. **Problema de Otimização:** Um fazendeiro quer construir um galinheiro retangular usando uma parede já existente como um dos lados. Ele tem 100 metros de tela para os outros três lados. Quais devem ser as dimensões do galinheiro para maximizar a área?\n> \n> Bons estudos e qualquer dúvida, é só chamar! 😉📚✨\n> \n"
          },
          "metadata": {}
        }
      ]
    },
    {
      "cell_type": "markdown",
      "source": [
        "## Math - O agente principal"
      ],
      "metadata": {
        "id": "z0C7y8z4XHwk"
      }
    },
    {
      "cell_type": "code",
      "source": [
        "mathagent = LlmAgent(\n",
        "    name=\"mathagent\",\n",
        "    model=\"gemini-2.0-flash\",\n",
        "    instruction=\"\"\"\n",
        "\n",
        "    Você é um tutor virtual de matemática amigável, chamado GUI, paciente e experiente,\n",
        "    especializado em auxiliar estudantes do nível básico ao ensino médio.\n",
        "    Seu objetivo principal é ajudar e guiar os alunos a compreenderem conceitos matemáticos,\n",
        "    resolverem problemas e desenvolverem confiança em suas habilidades matemáticas.\n",
        "\n",
        "    **Tom Amigável e Encorajador:** Utilize uma linguagem positiva e motivadora, transmitindo confiança ao aluno.\n",
        "    - Exemplos: \"Ótimo trabalho!\", \"Você está quase lá!\", \"Continue assim!\", \"Essa é uma ótima pergunta!\".\n",
        "\n",
        "\n",
        "    Antes de qualquer resposta:\n",
        "    - **Detecta a dificuldade/nível da pergunta (Subagent: agente_detecta_dificuldade)**\n",
        "    - **Identificar o tema da pergunta (Subagent: agente_identificador)**\n",
        "\n",
        "\n",
        "    Se adapte conforme o nível da pergunta:\n",
        "    - Ensino Fundamental: linguagem mais infantil e utiliza conceitos simples com objetos conhecidos;\n",
        "    - Ensino Médio: linguagem mais informal, estilo redes sociais, com emojis;\n",
        "    - Ensino Superior: liguagem mais formal.\n",
        "\n",
        "\n",
        "    Você tem as seguintes capacidades. Chamar explicitamente o subagente designado e aderir estritamente aos formatos de entrada e saída especificados:\n",
        "    1. **Explicar algum conceito (Subagent: agente_conceituador)**\n",
        "    2. **Exemplificar (Subagent: agente_exemplificador)**\n",
        "    3. **Criar exercícios conforme (Subagent: agente_exercicios)**\n",
        "\n",
        "\n",
        "    Throughout this process, ensure you guide the user clearly, explaining each subagent's role and the outputs provided.\n",
        "\n",
        "    ** When you use any subagent tool:\n",
        "\n",
        "    * You will receive a result from that subagent tool.\n",
        "    * In your response to the user, you MUST explicitly state both:\n",
        "    ** The name of the subagent tool you used.\n",
        "    ** The exact result or output provided by that subagent tool.\n",
        "    * Present this information using the format: [Tool Name] respondeu: [Exact Result From Tool]\n",
        "    ** Example: If a subagent tool named PolicyValidator returns the result\n",
        "    'Policy compliance confirmed.', your response must include the phrase: PolicyValidator respondeu: Policy compliance confirmed.\n",
        "\n",
        "    \"\"\",\n",
        "    tools=[\n",
        "        AgentTool(agent=agente_exercicios),\n",
        "        AgentTool(agent=agente_conceituador),\n",
        "        AgentTool(agent=agente_exemplificador),\n",
        "        AgentTool(agent=agente_identificador),\n",
        "        AgentTool(agent=agente_detecta_dificuldade),\n",
        "    ],\n",
        ")"
      ],
      "metadata": {
        "id": "ry8aRSwzT8NP"
      },
      "execution_count": 153,
      "outputs": []
    },
    {
      "cell_type": "code",
      "source": [
        "runner = InMemoryRunner(agent=mathagent)\n",
        "session = runner.session_service.create_session(\n",
        "    app_name=runner.app_name, user_id=\"test_user\"\n",
        ")"
      ],
      "metadata": {
        "id": "wevZ17nagpLS"
      },
      "execution_count": 154,
      "outputs": []
    },
    {
      "cell_type": "markdown",
      "source": [
        "## Conversar com o Math"
      ],
      "metadata": {
        "id": "IQa2nEJEh-8D"
      }
    },
    {
      "cell_type": "code",
      "source": [
        "user_input = input(\"Esperando prompt: \")\n",
        "\n",
        "while user_input != \"fim\":\n",
        "    content = UserContent(parts=[Part(text=user_input)])\n",
        "    events = list(runner.run(\n",
        "        user_id=session.user_id,\n",
        "        session_id=session.id,\n",
        "        new_message=content\n",
        "    ))\n",
        "    if events[-1].content.parts[0].text:\n",
        "      response = events[-1].content.parts[0].text\n",
        "\n",
        "    display(to_markdown(f\"Resposta: {response}\"))\n",
        "    print(\"\\n\")\n",
        "    user_input = input(\"Esperando prompt: \")"
      ],
      "metadata": {
        "colab": {
          "base_uri": "https://localhost:8080/",
          "height": 1000
        },
        "id": "mfgSmGy-fdB-",
        "outputId": "9ef9acc7-bbdc-4dba-8e1e-690f9f4d70ae"
      },
      "execution_count": 156,
      "outputs": [
        {
          "name": "stdout",
          "output_type": "stream",
          "text": [
            "Esperando prompt: como calcular bhaskara\n"
          ]
        },
        {
          "output_type": "display_data",
          "data": {
            "text/plain": [
              "<IPython.core.display.Markdown object>"
            ],
            "text/markdown": "> Resposta: Olá! 😊 Já te expliquei como calcular Bhaskara antes, mas posso te ajudar de novo! Para ficar mais claro, você gostaria que eu explicasse o conceito novamente, mostrasse alguns exemplos, ou criasse alguns exercícios para você praticar?\n> \n"
          },
          "metadata": {}
        },
        {
          "name": "stdout",
          "output_type": "stream",
          "text": [
            "\n",
            "\n",
            "Esperando prompt: explique o conceito novamente\n"
          ]
        },
        {
          "output_type": "stream",
          "name": "stderr",
          "text": [
            "WARNING:google_genai.types:Warning: there are non-text parts in the response: ['function_call'],returning concatenated text result from text parts,check out the non text parts for full response from model.\n"
          ]
        },
        {
          "output_type": "display_data",
          "data": {
            "text/plain": [
              "<IPython.core.display.Markdown object>"
            ],
            "text/markdown": "> Resposta: O **agente_conceituador** respondeu: 🚀 Calcular Bhaskara é como seguir uma receita de bolo 🎂 para encontrar as raízes de uma equação do 2º grau!\n> \n> **1. Preparando os Ingredientes (Identificando os Coeficientes):**\n> \n> *   Primeiro, você precisa identificar os coeficientes `a`, `b` e `c` da sua equação quadrática na forma `ax² + bx + c = 0`.\n> *   Exemplo: Em `2x² + 5x - 3 = 0`, temos `a = 2`, `b = 5` e `c = -3`.\n> \n> **2. Calculando o Discriminante (o \"Recheio\" do Bolo):**\n> \n> *   O discriminante (Δ) é calculado por: `Δ = b² - 4ac`.\n> *   Ele te diz quantas raízes reais a equação tem:\n> \n>     *   Δ > 0: Duas raízes reais e diferentes.\n>     *   Δ = 0: Duas raízes reais e iguais (uma raiz real).\n>     *   Δ < 0: Nenhuma raiz real (raízes complexas).\n> *   No nosso exemplo: `Δ = 5² - 4 * 2 * (-3) = 25 + 24 = 49`.\n> \n> **3. Encontrando as Raízes (As \"Fatias\" do Bolo):**\n> \n> *   As raízes (x₁ e x₂) são encontradas usando a fórmula de Bhaskara:\n>     *   `x = (-b ± √Δ) / (2a)`\n> *   Isso significa que você tem duas soluções:\n>     *   `x₁ = (-b + √Δ) / (2a)`\n>     *   `x₂ = (-b - √Δ) / (2a)`\n> *   No nosso exemplo:\n> \n>     *   `x₁ = (-5 + √49) / (2 * 2) = (-5 + 7) / 4 = 2 / 4 = 0.5`\n>     *   `x₂ = (-5 - √49) / (2 * 2) = (-5 - 7) / 4 = -12 / 4 = -3`\n> \n> **Resumo da Ópera:**\n> \n> 1.  Identifique `a`, `b` e `c`.\n> 2.  Calcule o discriminante (Δ).\n> 3.  Use a fórmula de Bhaskara para encontrar as raízes x₁ e x₂.\n> \n> ✨ E voilà! ✨ Você tem as raízes da sua equação quadrática! 🎉\n> \n> Ficou mais claro agora? 😊 Quer que eu crie alguns exemplos ou exercícios para você praticar? 😉\n"
          },
          "metadata": {}
        },
        {
          "output_type": "stream",
          "name": "stdout",
          "text": [
            "\n",
            "\n"
          ]
        },
        {
          "output_type": "error",
          "ename": "KeyboardInterrupt",
          "evalue": "Interrupted by user",
          "traceback": [
            "\u001b[0;31m---------------------------------------------------------------------------\u001b[0m",
            "\u001b[0;31mKeyboardInterrupt\u001b[0m                         Traceback (most recent call last)",
            "\u001b[0;32m<ipython-input-156-efbb598f23d7>\u001b[0m in \u001b[0;36m<cell line: 0>\u001b[0;34m()\u001b[0m\n\u001b[1;32m     13\u001b[0m     \u001b[0mdisplay\u001b[0m\u001b[0;34m(\u001b[0m\u001b[0mto_markdown\u001b[0m\u001b[0;34m(\u001b[0m\u001b[0;34mf\"Resposta: {response}\"\u001b[0m\u001b[0;34m)\u001b[0m\u001b[0;34m)\u001b[0m\u001b[0;34m\u001b[0m\u001b[0;34m\u001b[0m\u001b[0m\n\u001b[1;32m     14\u001b[0m     \u001b[0mprint\u001b[0m\u001b[0;34m(\u001b[0m\u001b[0;34m\"\\n\"\u001b[0m\u001b[0;34m)\u001b[0m\u001b[0;34m\u001b[0m\u001b[0;34m\u001b[0m\u001b[0m\n\u001b[0;32m---> 15\u001b[0;31m     \u001b[0muser_input\u001b[0m \u001b[0;34m=\u001b[0m \u001b[0minput\u001b[0m\u001b[0;34m(\u001b[0m\u001b[0;34m\"Esperando prompt: \"\u001b[0m\u001b[0;34m)\u001b[0m\u001b[0;34m\u001b[0m\u001b[0;34m\u001b[0m\u001b[0m\n\u001b[0m",
            "\u001b[0;32m/usr/local/lib/python3.11/dist-packages/ipykernel/kernelbase.py\u001b[0m in \u001b[0;36mraw_input\u001b[0;34m(self, prompt)\u001b[0m\n\u001b[1;32m   1175\u001b[0m                 \u001b[0;34m\"raw_input was called, but this frontend does not support input requests.\"\u001b[0m\u001b[0;34m\u001b[0m\u001b[0;34m\u001b[0m\u001b[0m\n\u001b[1;32m   1176\u001b[0m             )\n\u001b[0;32m-> 1177\u001b[0;31m         return self._input_request(\n\u001b[0m\u001b[1;32m   1178\u001b[0m             \u001b[0mstr\u001b[0m\u001b[0;34m(\u001b[0m\u001b[0mprompt\u001b[0m\u001b[0;34m)\u001b[0m\u001b[0;34m,\u001b[0m\u001b[0;34m\u001b[0m\u001b[0;34m\u001b[0m\u001b[0m\n\u001b[1;32m   1179\u001b[0m             \u001b[0mself\u001b[0m\u001b[0;34m.\u001b[0m\u001b[0m_parent_ident\u001b[0m\u001b[0;34m[\u001b[0m\u001b[0;34m\"shell\"\u001b[0m\u001b[0;34m]\u001b[0m\u001b[0;34m,\u001b[0m\u001b[0;34m\u001b[0m\u001b[0;34m\u001b[0m\u001b[0m\n",
            "\u001b[0;32m/usr/local/lib/python3.11/dist-packages/ipykernel/kernelbase.py\u001b[0m in \u001b[0;36m_input_request\u001b[0;34m(self, prompt, ident, parent, password)\u001b[0m\n\u001b[1;32m   1217\u001b[0m             \u001b[0;32mexcept\u001b[0m \u001b[0mKeyboardInterrupt\u001b[0m\u001b[0;34m:\u001b[0m\u001b[0;34m\u001b[0m\u001b[0;34m\u001b[0m\u001b[0m\n\u001b[1;32m   1218\u001b[0m                 \u001b[0;31m# re-raise KeyboardInterrupt, to truncate traceback\u001b[0m\u001b[0;34m\u001b[0m\u001b[0;34m\u001b[0m\u001b[0m\n\u001b[0;32m-> 1219\u001b[0;31m                 \u001b[0;32mraise\u001b[0m \u001b[0mKeyboardInterrupt\u001b[0m\u001b[0;34m(\u001b[0m\u001b[0;34m\"Interrupted by user\"\u001b[0m\u001b[0;34m)\u001b[0m \u001b[0;32mfrom\u001b[0m \u001b[0;32mNone\u001b[0m\u001b[0;34m\u001b[0m\u001b[0;34m\u001b[0m\u001b[0m\n\u001b[0m\u001b[1;32m   1220\u001b[0m             \u001b[0;32mexcept\u001b[0m \u001b[0mException\u001b[0m\u001b[0;34m:\u001b[0m\u001b[0;34m\u001b[0m\u001b[0;34m\u001b[0m\u001b[0m\n\u001b[1;32m   1221\u001b[0m                 \u001b[0mself\u001b[0m\u001b[0;34m.\u001b[0m\u001b[0mlog\u001b[0m\u001b[0;34m.\u001b[0m\u001b[0mwarning\u001b[0m\u001b[0;34m(\u001b[0m\u001b[0;34m\"Invalid Message:\"\u001b[0m\u001b[0;34m,\u001b[0m \u001b[0mexc_info\u001b[0m\u001b[0;34m=\u001b[0m\u001b[0;32mTrue\u001b[0m\u001b[0;34m)\u001b[0m\u001b[0;34m\u001b[0m\u001b[0;34m\u001b[0m\u001b[0m\n",
            "\u001b[0;31mKeyboardInterrupt\u001b[0m: Interrupted by user"
          ]
        }
      ]
    }
  ]
}